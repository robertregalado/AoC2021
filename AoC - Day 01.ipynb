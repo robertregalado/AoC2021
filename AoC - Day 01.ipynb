{
 "cells": [
  {
   "cell_type": "markdown",
   "id": "0ab21b55",
   "metadata": {},
   "source": [
    "### Day 1 - Part 1 ###"
   ]
  },
  {
   "cell_type": "code",
   "execution_count": 1,
   "id": "fea54ee4",
   "metadata": {},
   "outputs": [],
   "source": [
    "with open('day1_puzzle.txt') as file:\n",
    "    array = file.readlines()"
   ]
  },
  {
   "cell_type": "code",
   "execution_count": 117,
   "id": "bdb3e772",
   "metadata": {},
   "outputs": [
    {
     "name": "stdout",
     "output_type": "stream",
     "text": [
      "Measurements that are larger than the previous measurement is: 1462\n"
     ]
    }
   ],
   "source": [
    "a = []\n",
    "count_inc = 0\n",
    "count_dec = 0\n",
    "for i in array:\n",
    "    a.append(int(i))\n",
    "for j in range(len(array)-1):\n",
    "    if a[j+1] > a[j]:\n",
    "        count_inc+=1\n",
    "        #print(\"Increased\")\n",
    "    else:\n",
    "        count_dec+=1\n",
    "        #print(\"Decreased\")\n",
    "print(f\"Measurements that are larger than the previous measurement is: {count_inc}\")\n",
    "#print(count_dec)\n"
   ]
  },
  {
   "cell_type": "markdown",
   "id": "b07f0db6",
   "metadata": {},
   "source": [
    "### Day 1 - Part 2"
   ]
  },
  {
   "cell_type": "code",
   "execution_count": 118,
   "id": "a50603b6",
   "metadata": {},
   "outputs": [],
   "source": [
    "with open('day1_puzzle.txt') as file:\n",
    "    array = file.readlines()"
   ]
  },
  {
   "cell_type": "code",
   "execution_count": 122,
   "id": "850b8f38",
   "metadata": {},
   "outputs": [
    {
     "name": "stdout",
     "output_type": "stream",
     "text": [
      "Measurements that are larger than the previous measurement is: 1497\n",
      "500\n"
     ]
    }
   ],
   "source": [
    "a = []\n",
    "count_inc = 0\n",
    "count_dec = 0\n",
    "for i in array:\n",
    "    a.append(int(i))\n",
    "for j in range(len(array)-3):\n",
    "    if a[j+1]+a[j+2]+a[j+3] > a[j]+a[j+1]+a[j+2]:\n",
    "        count_inc+=1\n",
    "        #print(\"Increased\")\n",
    "    else:\n",
    "        count_dec+=1\n",
    "        #print(\"Decreased\")\n",
    "print(f\"Measurements that are larger than the previous measurement is: {count_inc}\")\n",
    "print(count_dec)"
   ]
  },
  {
   "cell_type": "code",
   "execution_count": 123,
   "id": "66f195b5",
   "metadata": {},
   "outputs": [
    {
     "data": {
      "text/plain": [
       "1997"
      ]
     },
     "execution_count": 123,
     "metadata": {},
     "output_type": "execute_result"
    }
   ],
   "source": [
    "1497+500"
   ]
  },
  {
   "cell_type": "code",
   "execution_count": null,
   "id": "8cbaef8b",
   "metadata": {},
   "outputs": [],
   "source": []
  }
 ],
 "metadata": {
  "kernelspec": {
   "display_name": "Python 3 (ipykernel)",
   "language": "python",
   "name": "python3"
  },
  "language_info": {
   "codemirror_mode": {
    "name": "ipython",
    "version": 3
   },
   "file_extension": ".py",
   "mimetype": "text/x-python",
   "name": "python",
   "nbconvert_exporter": "python",
   "pygments_lexer": "ipython3",
   "version": "3.9.7"
  }
 },
 "nbformat": 4,
 "nbformat_minor": 5
}
